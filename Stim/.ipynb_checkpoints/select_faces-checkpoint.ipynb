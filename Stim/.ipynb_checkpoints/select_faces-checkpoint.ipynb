{
 "cells": [
  {
   "cell_type": "code",
   "execution_count": 9,
   "id": "cbb6647c",
   "metadata": {},
   "outputs": [],
   "source": [
    "curr_dir = '/home/vayzenbe/GitHub_Repos/ginn'\n",
    "\n",
    "import sys\n",
    "sys.path.insert(1, f'{curr_dir}/Models')\n",
    "import os, argparse\n",
    "import torch\n",
    "import torch.nn as nn\n",
    "from torchvision import transforms\n",
    "from PIL import Image, ImageOps,  ImageFilter\n",
    "from itertools import chain\n",
    "import pandas as pd\n",
    "import numpy as np\n",
    "import seaborn as sns\n",
    "import cornet\n",
    "import model_funcs\n",
    "import matplotlib.pyplot as plt\n",
    "from statistics import mean\n",
    "%matplotlib inline\n",
    "import LoadFrames\n",
    "from scipy import stats, spatial"
   ]
  },
  {
   "cell_type": "code",
   "execution_count": 2,
   "id": "9ae997fb",
   "metadata": {},
   "outputs": [],
   "source": [
    "im_dir = \"/home/vayzenbe/GitHub_Repos/ginn/Stim/exp_stim\"\n",
    "im_dir = '/home/vayzenbe/matlab_toolboxes/SHINEtoolbox/SHINEtoolbox/SHINE_OUTPUT'\n",
    "final_dir = \"/home/vayzenbe/GitHub_Repos/ginn/Stim/gray_exp_stim\"\n",
    "\n",
    "weights_dir = f\"/lab_data/behrmannlab/vlad/ginn/model_weights\"\n",
    "\n",
    "\n",
    "train_cond = ['imagenet_objects','vggface']\n",
    "n_classes = [600, 600]\n",
    "\n",
    "model_epoch = 15\n",
    "\n",
    "model_type = 'classify'\n",
    "layer = 'aIT'\n",
    "\n",
    "im_count = 15 #how many ims to test at a time\n",
    "iters = 10000 #how many times to search through the data\n",
    "\n",
    "\n",
    "transform = transforms.Compose([\n",
    "        transforms.Resize((224, 224)),\n",
    "        transforms.Grayscale(num_output_channels=3),\n",
    "        transforms.ToTensor(),\n",
    "        transforms.Normalize(mean=[0.485, 0.456, 0.406],\n",
    "                                             std=[0.229, 0.224, 0.225])])\n",
    "\n",
    "cos = nn.CosineSimilarity(dim=0, eps=1e-6)\n"
   ]
  },
  {
   "cell_type": "code",
   "execution_count": 3,
   "id": "5304bea0",
   "metadata": {},
   "outputs": [],
   "source": [
    "def load_files(dirName):\n",
    "    listOfFiles = list()\n",
    "    for (dirpath, dirnames, filenames) in os.walk(dirName):\n",
    "        listOfFiles += [os.path.join(dirpath, file) for file in filenames]\n",
    "            \n",
    "    return listOfFiles    "
   ]
  },
  {
   "cell_type": "code",
   "execution_count": 4,
   "id": "36a50692",
   "metadata": {},
   "outputs": [],
   "source": [
    "def extract_acts(model, im):\n",
    "    \"\"\"\n",
    "    Extracts the activations for a series of images\n",
    "    \"\"\"\n",
    "    model.eval()\n",
    "\n",
    "    with torch.no_grad():\n",
    "\n",
    "        im = im.cuda()\n",
    "        output = model(im)\n",
    "        output =output.view(output.size(0), -1)\n",
    "        \n",
    "\n",
    "    return output, label"
   ]
  },
  {
   "cell_type": "code",
   "execution_count": 5,
   "id": "f51406bc",
   "metadata": {},
   "outputs": [],
   "source": [
    "def create_cos_rdm(output):\n",
    "    \"\"\"calculate cos similarity between each image\"\"\"\n",
    "    rdm =[]\n",
    "    for ii in range(0,len(output)):\n",
    "        for kk in range(ii+1,len(output)):\n",
    "            sim = cos(output[ii], output[kk])\n",
    "            sim =sim.cpu().numpy()\n",
    "            rdm.append(sim)\n",
    "\n",
    "    return rdm"
   ]
  },
  {
   "cell_type": "code",
   "execution_count": 6,
   "id": "badbba7b",
   "metadata": {},
   "outputs": [],
   "source": [
    "def image_loader(image_name):\n",
    "    #make image grayscale\n",
    "    image_name = ImageOps.grayscale(image_name).convert(\"RGB\")\n",
    "    #image_name = image_name.filter(ImageFilter.GaussianBlur(radius=4))\n",
    "    \"\"\"load image, returns cuda tensor\"\"\"\n",
    "    image_name = transform(image_name).unsqueeze(0)\n",
    "    #image_name = Variable(normalize(to_tensor(scaler(image_name))).unsqueeze(0))\n",
    "    image_name.cuda()\n",
    "    return image_name\n"
   ]
  },
  {
   "cell_type": "code",
   "execution_count": null,
   "id": "2f24150e",
   "metadata": {},
   "outputs": [],
   "source": [
    "dataset = LoadFrames.LoadFrames(im_dir,  transform=transform)\n",
    "#load first model\n",
    "model1 = model_funcs.load_model(model_type, train_cond[0], model_epoch, weights_dir, n_classes[0])\n",
    "model1 =  model_funcs.remove_layer(model1, layer)\n",
    "\n",
    "#load second model\n",
    "model2 = model_funcs.load_model(model_type, train_cond[1], model_epoch, weights_dir, n_classes[1])\n",
    "model2 =  model_funcs.remove_layer(model2, layer)\n",
    "\n",
    "#loop through iterations\n",
    "for ii in range(0,iters):\n",
    "\n",
    "\n",
    "    loader = torch.utils.data.DataLoader(dataset, batch_size=im_count, shuffle=True, drop_last = True,num_workers = 4, pin_memory=True)\n",
    "    im, label = next(iter(loader))\n",
    "\n",
    "    out1, label1 = extract_acts(model1,im)\n",
    "    out2, label2 = extract_acts(model2,im)\n",
    "\n",
    "    rdm1 = create_cos_rdm(out1)\n",
    "    rdm2 = create_cos_rdm(out2)\n",
    "\n",
    "    corr = np.corrcoef(rdm1, rdm2)\n",
    "    if ii == 0:\n",
    "        best_corr = corr[0,1]\n",
    "    else:\n",
    "        new_corr = corr[0,1]\n",
    "\n",
    "        if new_corr < best_corr:\n",
    "            best_ims = label1\n",
    "            best_corr = new_corr\n",
    "    \n",
    "\n",
    "df = pd.DataFrame(best_ims)\n",
    "df.to_csv('best_ims.csv')\n",
    "\n",
    "\n",
    "\n",
    "\n"
   ]
  },
  {
   "cell_type": "code",
   "execution_count": 2,
   "id": "73719417",
   "metadata": {},
   "outputs": [
    {
     "ename": "NameError",
     "evalue": "name 'pd' is not defined",
     "output_type": "error",
     "traceback": [
      "\u001b[0;31m---------------------------------------------------------------------------\u001b[0m",
      "\u001b[0;31mNameError\u001b[0m                                 Traceback (most recent call last)",
      "\u001b[0;32m<ipython-input-2-48d9c81cec60>\u001b[0m in \u001b[0;36m<module>\u001b[0;34m\u001b[0m\n\u001b[1;32m      1\u001b[0m \u001b[0;32mfrom\u001b[0m \u001b[0mshutil\u001b[0m \u001b[0;32mimport\u001b[0m \u001b[0mcopyfile\u001b[0m\u001b[0;34m\u001b[0m\u001b[0;34m\u001b[0m\u001b[0m\n\u001b[1;32m      2\u001b[0m \u001b[0;34m\u001b[0m\u001b[0m\n\u001b[0;32m----> 3\u001b[0;31m \u001b[0mdf\u001b[0m \u001b[0;34m=\u001b[0m \u001b[0mpd\u001b[0m\u001b[0;34m.\u001b[0m\u001b[0mread_csv\u001b[0m\u001b[0;34m(\u001b[0m\u001b[0;34m'best_ims.csv'\u001b[0m\u001b[0;34m)\u001b[0m\u001b[0;34m\u001b[0m\u001b[0;34m\u001b[0m\u001b[0m\n\u001b[0m\u001b[1;32m      4\u001b[0m \u001b[0mdf\u001b[0m\u001b[0;34m[\u001b[0m\u001b[0;34m'0'\u001b[0m\u001b[0;34m]\u001b[0m\u001b[0;34m\u001b[0m\u001b[0;34m\u001b[0m\u001b[0m\n\u001b[1;32m      5\u001b[0m \u001b[0;34m\u001b[0m\u001b[0m\n",
      "\u001b[0;31mNameError\u001b[0m: name 'pd' is not defined"
     ]
    }
   ],
   "source": [
    "'''\n",
    "Copy best IMs to experiment folder\n",
    "'''\n",
    "\n",
    "from shutil import copyfile\n",
    "\n",
    "df = pd.read_csv('best_ims.csv')\n",
    "df['0']\n",
    "\n",
    "for ii in df['0']:\n",
    "    \n",
    "    im_file = f'{im_dir}/{ii}'\n",
    "    \n",
    "    copyfile(im_file, f'{final_dir}/{ii}')\n"
   ]
  },
  {
   "cell_type": "code",
   "execution_count": 7,
   "id": "1b524236",
   "metadata": {},
   "outputs": [
    {
     "name": "stdout",
     "output_type": "stream",
     "text": [
      "[[1.         0.22048085]\n",
      " [0.22048085 1.        ]]\n"
     ]
    }
   ],
   "source": [
    "'''\n",
    "Reload best ims to calculate final correlation and generate figures\n",
    "'''\n",
    "\n",
    "dataset = LoadFrames.LoadFrames(final_dir,  transform=transform)\n",
    "#load first model\n",
    "model1 = model_funcs.load_model(model_type, train_cond[0], model_epoch, weights_dir, n_classes[0])\n",
    "model1 =  model_funcs.remove_layer(model1, layer)\n",
    "\n",
    "#load second model\n",
    "model2 = model_funcs.load_model(model_type, train_cond[1], model_epoch, weights_dir, n_classes[1])\n",
    "model2 =  model_funcs.remove_layer(model2, layer)\n",
    "\n",
    "#loop through iterations\n",
    "\n",
    "\n",
    "\n",
    "loader = torch.utils.data.DataLoader(dataset, batch_size=30, shuffle=True, drop_last = True,num_workers = 4, pin_memory=True)\n",
    "im, label = next(iter(loader))\n",
    "\n",
    "out1, label1 = extract_acts(model1,im)\n",
    "out2, label2 = extract_acts(model2,im)\n",
    "\n",
    "rdm1 = create_cos_rdm(out1)\n",
    "rdm2 = create_cos_rdm(out2)\n",
    "\n",
    "corr = np.corrcoef(rdm1, rdm2)\n",
    "\n",
    "print(corr)\n",
    "\n",
    "sym_rdm1 = spatial.distance.squareform(rdm1, checks = True)\n",
    "sym_rdm2 = spatial.distance.squareform(rdm2, checks = True)\n",
    "\n",
    "new_rdm1 = pd.Series(rdm1)\n",
    "new_rdm2 = pd.Series(rdm2)\n",
    "\n",
    "comb_rdm = pd.concat([new_rdm1, new_rdm2], axis=1)\n",
    "comb_rdm = comb_rdm.rename(columns={0: \"General\", 1: \"Face\"})"
   ]
  },
  {
   "cell_type": "code",
   "execution_count": 10,
   "id": "0e188ce5-a057-42aa-911c-867a4ab7f2de",
   "metadata": {},
   "outputs": [
    {
     "name": "stderr",
     "output_type": "stream",
     "text": [
      "/home/vayzenbe/anaconda3/lib/python3.7/site-packages/seaborn/distributions.py:2557: FutureWarning: `distplot` is a deprecated function and will be removed in a future version. Please adapt your code to use either `displot` (a figure-level function with similar flexibility) or `histplot` (an axes-level function for histograms).\n",
      "  warnings.warn(msg, FutureWarning)\n",
      "/home/vayzenbe/anaconda3/lib/python3.7/site-packages/seaborn/distributions.py:2557: FutureWarning: `distplot` is a deprecated function and will be removed in a future version. Please adapt your code to use either `displot` (a figure-level function with similar flexibility) or `histplot` (an axes-level function for histograms).\n",
      "  warnings.warn(msg, FutureWarning)\n"
     ]
    },
    {
     "data": {
      "text/plain": [
       "<AxesSubplot:title={'center':'Face Model'}, ylabel='Density'>"
      ]
     },
     "execution_count": 10,
     "metadata": {},
     "output_type": "execute_result"
    },
    {
     "data": {
      "image/png": "[encoded data removed]",
      "text/plain": [
       "<Figure size 432x288 with 2 Axes>"
      ]
     },
     "metadata": {
      "needs_background": "light"
     },
     "output_type": "display_data"
    }
   ],
   "source": [
    "fig, axes = plt.subplots(1, 2)\n",
    "axes[0].set_title('General Model')\n",
    "axes[1].set_title('Face Model')\n",
    "sns.distplot(new_rdm1, ax=axes[0])\n",
    "sns.distplot(new_rdm2, ax=axes[1])\n"
   ]
  },
  {
   "cell_type": "code",
   "execution_count": 11,
   "id": "80193e60-8207-4e9e-9978-3b4f6e592bcd",
   "metadata": {},
   "outputs": [
    {
     "name": "stderr",
     "output_type": "stream",
     "text": [
      "/home/vayzenbe/anaconda3/lib/python3.7/site-packages/seaborn/matrix.py:620: ClusterWarning: scipy.cluster: The symmetric non-negative hollow observation matrix looks suspiciously like an uncondensed distance matrix\n",
      "  metric=self.metric)\n"
     ]
    },
    {
     "data": {
      "image/png": "[encoded data removed]",
      "text/plain": [
       "<Figure size 720x720 with 4 Axes>"
      ]
     },
     "metadata": {
      "needs_background": "light"
     },
     "output_type": "display_data"
    },
    {
     "data": {
      "image/png": "[encoded data removed]",
      "text/plain": [
       "<Figure size 720x720 with 4 Axes>"
      ]
     },
     "metadata": {
      "needs_background": "light"
     },
     "output_type": "display_data"
    }
   ],
   "source": [
    "map1 =sns.clustermap(sym_rdm1,cbar_pos=(0.1, .2, .03, .4))\n",
    "\n",
    "map1.ax_row_dendrogram.set_visible(False)\n",
    "map1.ax_col_dendrogram.set_visible(False)\n",
    "\n",
    "map2 =sns.clustermap(sym_rdm2,cbar_pos=(0.1, .2, .03, .4))\n",
    "\n",
    "map2.ax_row_dendrogram.set_visible(False)\n",
    "map2.ax_col_dendrogram.set_visible(False)"
   ]
  },
  {
   "cell_type": "code",
   "execution_count": 12,
   "id": "7ee15876-544e-4d03-955e-695205dc0c62",
   "metadata": {},
   "outputs": [],
   "source": [
    "df = pd.read_csv('best_ims.csv')"
   ]
  },
  {
   "cell_type": "code",
   "execution_count": 21,
   "id": "b4f97a43-a613-4077-b991-96dc8064ae26",
   "metadata": {},
   "outputs": [],
   "source": [
    "exp_trials =[]\n",
    "for im1n, im1 in enumerate(df.iloc[:,1].tolist()):\n",
    "    for im2n, im2 in enumerate(df.iloc[im1n:,1].tolist()):\n",
    "        exp_trials.append([im1,im2])\n",
    "        \n",
    "        "
   ]
  },
  {
   "cell_type": "code",
   "execution_count": 22,
   "id": "23d9df08-8d21-4cb5-9f30-227be08d8a9c",
   "metadata": {},
   "outputs": [
    {
     "data": {
      "text/plain": [
       "120"
      ]
     },
     "execution_count": 22,
     "metadata": {},
     "output_type": "execute_result"
    }
   ],
   "source": [
    "len(exp_trials)"
   ]
  },
  {
   "cell_type": "code",
   "execution_count": 27,
   "id": "8ccf8314-69b7-4028-b44a-10dc51215e12",
   "metadata": {},
   "outputs": [],
   "source": [
    "final_trials = np.asarray(exp_trials)\n",
    "final_trials\n",
    "np.savetxt('exp_trials.csv', final_trials, fmt='%s', delimiter=',') "
   ]
  },
  {
   "cell_type": "code",
   "execution_count": null,
   "id": "578b9915-bb94-43a4-95dd-343a247517a3",
   "metadata": {},
   "outputs": [],
   "source": []
  }
 ],
 "metadata": {
  "kernelspec": {
   "display_name": "Python 3",
   "language": "python",
   "name": "python3"
  },
  "language_info": {
   "codemirror_mode": {
    "name": "ipython",
    "version": 3
   },
   "file_extension": ".py",
   "mimetype": "text/x-python",
   "name": "python",
   "nbconvert_exporter": "python",
   "pygments_lexer": "ipython3",
   "version": "3.7.10"
  }
 },
 "nbformat": 4,
 "nbformat_minor": 5
}
