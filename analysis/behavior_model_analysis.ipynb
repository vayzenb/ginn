{
 "cells": [
  {
   "cell_type": "code",
   "execution_count": 1,
   "metadata": {},
   "outputs": [],
   "source": [
    "curr_dir = '/user_data/vayzenbe/GitHub_Repos/ginn'\n",
    "\n",
    "import sys\n",
    "sys.path.insert(1, f'{curr_dir}/Models')\n",
    "import os, argparse\n",
    "import torch\n",
    "import torch.nn as nn\n",
    "from torchvision import transforms\n",
    "from PIL import Image, ImageOps,  ImageFilter\n",
    "from itertools import chain\n",
    "import pandas as pd\n",
    "import numpy as np\n",
    "import seaborn as sns\n",
    "import cornet\n",
    "import model_funcs\n",
    "import matplotlib.pyplot as plt\n",
    "from statistics import mean\n",
    "%matplotlib inline\n",
    "import LoadFrames\n",
    "from scipy import stats, spatial"
   ]
  },
  {
   "cell_type": "code",
   "execution_count": 59,
   "metadata": {},
   "outputs": [],
   "source": [
    "im_dir = f\"{curr_dir}/Stim/gray_exp_stim/\"\n",
    "weights_dir = f\"/lab_data/behrmannlab/vlad/ginn/model_weights\"\n",
    "results_dir = f\"{curr_dir}/Results/fmri_ts\"\n",
    "\n",
    "stim_data = pd.read_csv(f\"{curr_dir}/analysis/stim_data.csv\")\n",
    "stim_data.sort_values(by=['stim1', 'stim2'], ascending=True).reset_index()\n",
    "\n",
    "'''\n",
    "set model params\n",
    "'''\n",
    "model_type = 'classify'\n",
    "train_cond = ['random','imagenet_objects','imagenet_oneface','mixed_imagenet_vggface','vggface']\n",
    "model_cond = ['random','general','one_face', 'mixed','face']\n",
    "n_classes = [600,600, 601, 1200, 600]\n",
    "epoch = [1,5, 10, 15, 20, 25, 30]\n",
    "layer =['aIT','pIT'] #set in descending order\n",
    "#layer = 'aIT'\n",
    "\n",
    "transform = transforms.Compose([\n",
    "        transforms.Resize((224, 224)),\n",
    "        transforms.Grayscale(num_output_channels=3),\n",
    "        transforms.ToTensor(),\n",
    "        transforms.Normalize(mean=[0.485, 0.456, 0.406],\n",
    "                                             std=[0.229, 0.224, 0.225])])\n",
    "\n",
    "cos = nn.CosineSimilarity(dim=0, eps=1e-6)\n",
    "\n",
    "im_count = 15\n",
    "\n"
   ]
  },
  {
   "cell_type": "code",
   "execution_count": 38,
   "metadata": {},
   "outputs": [],
   "source": [
    "def extract_acts(model, im):\n",
    "    \"\"\"\n",
    "    Extracts the activations for a series of images\n",
    "    \"\"\"\n",
    "    model.eval()\n",
    "\n",
    "    with torch.no_grad():\n",
    "\n",
    "        im = im.cuda()\n",
    "        output = model(im)\n",
    "        output =output.view(output.size(0), -1)\n",
    "        \n",
    "\n",
    "    return output, label"
   ]
  },
  {
   "cell_type": "code",
   "execution_count": 39,
   "metadata": {},
   "outputs": [],
   "source": [
    "def create_cos_rdm(output, label):\n",
    "    \"\"\"calculate cos similarity between each image\"\"\"\n",
    "    rdm =[]\n",
    "    im_pairs = []\n",
    "    for ii in range(0,len(output)):\n",
    "        for kk in range(ii+1,len(output)):\n",
    "            sim = cos(output[ii], output[kk])\n",
    "            sim =sim.cpu().numpy()\n",
    "            rdm.append(sim)\n",
    "            im_pairs.append([label[ii], label[kk]])\n",
    "\n",
    "    return rdm, im_pairs"
   ]
  },
  {
   "cell_type": "code",
   "execution_count": 57,
   "metadata": {},
   "outputs": [],
   "source": [
    "'''\n",
    "Reload best ims to calculate final correlation and generate figures\n",
    "'''\n",
    "\n",
    "stim_data = pd.read_csv(f\"{curr_dir}/analysis/stim_data.csv\")\n",
    "stim_data.sort_values(by=['stim1', 'stim2'], ascending=True).reset_index()\n",
    "dataset = LoadFrames.LoadFrames(im_dir,  transform=transform)\n",
    "loader = torch.utils.data.DataLoader(dataset, batch_size=im_count, shuffle=False, drop_last = False,num_workers = 4, pin_memory=True)\n",
    "\n",
    "for tcn, tc in enumerate(train_cond):\n",
    "    for ee in epoch:\n",
    "        for ll in layer:\n",
    "            model_df = pd.DataFrame(columns = ['stim1','stim2','similarity'])\n",
    "            if tc == 'random':\n",
    "                model = model_funcs.load_model(model_type, tc, 0, weights_dir, n_classes[tcn])\n",
    "                model =  model_funcs.remove_layer(model, ll)\n",
    "\n",
    "                if ee > 1:\n",
    "                    break\n",
    "\n",
    "            else:\n",
    "                #load first model\n",
    "                model = model_funcs.load_model(model_type, tc, ee, weights_dir, n_classes[tcn])\n",
    "                model =  model_funcs.remove_layer(model, ll)\n",
    "            \n",
    "            im, label = next(iter(loader))\n",
    "\n",
    "            out, label = extract_acts(model,im)\n",
    "\n",
    "\n",
    "            rdm, im_pairs = create_cos_rdm(out, label)\n",
    "\n",
    "            im_pairs = np.array(im_pairs)\n",
    "            rdm = np.array(rdm)\n",
    "\n",
    "            model_df['stim1'] = im_pairs[:,0]\n",
    "            model_df['stim2'] = im_pairs[:,1]\n",
    "            model_df['similarity'] = rdm\n",
    "\n",
    "            model_df = model_df.sort_values(by=['stim1', 'stim2'], ascending=True).reset_index()\n",
    "            stim_data[f'{model_cond[tcn]}_{ll}_{ee}'] = model_df['similarity']\n",
    "            \n"
   ]
  },
  {
   "cell_type": "code",
   "execution_count": 58,
   "metadata": {},
   "outputs": [],
   "source": [
    "stim_data.to_csv('stim_data.csv',index=False)"
   ]
  },
  {
   "cell_type": "code",
   "execution_count": 53,
   "metadata": {},
   "outputs": [
    {
     "data": {
      "text/plain": [
       "'imagenet_objects'"
      ]
     },
     "execution_count": 53,
     "metadata": {},
     "output_type": "execute_result"
    }
   ],
   "source": [
    "tc"
   ]
  },
  {
   "cell_type": "code",
   "execution_count": null,
   "metadata": {},
   "outputs": [],
   "source": []
  }
 ],
 "metadata": {
  "interpreter": {
   "hash": "364bf80ec3357c517417e509b77beb380f93a8befd191d00c444bb4eef120f90"
  },
  "kernelspec": {
   "display_name": "Python 3.6.6 64-bit",
   "language": "python",
   "name": "python3"
  },
  "language_info": {
   "codemirror_mode": {
    "name": "ipython",
    "version": 3
   },
   "file_extension": ".py",
   "mimetype": "text/x-python",
   "name": "python",
   "nbconvert_exporter": "python",
   "pygments_lexer": "ipython3",
   "version": "3.9.7"
  },
  "orig_nbformat": 4
 },
 "nbformat": 4,
 "nbformat_minor": 2
}
