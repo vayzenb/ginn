{
 "cells": [
  {
   "cell_type": "markdown",
   "metadata": {},
   "source": [
    "Reconstor!"
   ]
  },
  {
   "cell_type": "code",
   "execution_count": 8,
   "metadata": {},
   "outputs": [],
   "source": [
    "curr_dir = '/home/vayzenbe/GitHub_Repos/GiNN/'\n",
    "import sys\n",
    "sys.path.insert(1, f'{curr_dir}Models')\n",
    "import os, argparse\n",
    "from collections import OrderedDict\n",
    "import torch\n",
    "import torch.nn as nn\n",
    "import torchvision\n",
    "from torchvision import transforms\n",
    "import cornet\n",
    "import numpy as np\n",
    "from load_stim import load_stim\n",
    "from PIL import Image\n",
    "import matplotlib.pyplot as plt\n",
    "%matplotlib inline"
   ]
  },
  {
   "cell_type": "code",
   "execution_count": 20,
   "metadata": {},
   "outputs": [],
   "source": [
    "stim_dir = f\"{curr_dir}/Stim/\"\n",
    "weights_dir = f\"{curr_dir}/Models/weights\"\n",
    "\n",
    "im_cond = ['front_face', 'schematic']\n",
    "#im_cond = ['front_face']\n",
    "model_types = 'face'\n",
    "\n",
    "#Transformations for ImageNet\n",
    "transform = transforms.Compose([\n",
    "        transforms.Resize((224, 224)),\n",
    "        transforms.ToTensor(),\n",
    "        transforms.Normalize(mean=[0.485, 0.456, 0.406],\n",
    "                                             std=[0.229, 0.224, 0.225])])\n",
    "inv_normalize = transforms.Normalize(\n",
    "   mean=[-0.485/0.229, -0.456/0.224, -0.406/0.225],std=[1/0.229, 1/0.224, 1/0.225])"
   ]
  },
  {
   "cell_type": "code",
   "execution_count": 21,
   "metadata": {},
   "outputs": [],
   "source": [
    "def save_recon(in_,out_):\n",
    "    \n",
    "    fig = plt.figure()\n",
    "\n",
    "    out_ = out_.squeeze(0)\n",
    "    out_ = inv_normalize(out_)\n",
    "    out_ = out_.cpu().detach()\n",
    "    \n",
    "    in_ = in_.squeeze(0)\n",
    "    in_ = inv_normalize(in_)\n",
    "    in_ = in_.cpu().detach()\n",
    "                     \n",
    "    ax = fig.add_subplot(2, 1,2)\n",
    "    plt.imshow(in_.permute(1, 2, 0))\n",
    "    \n",
    "    ax = fig.add_subplot(2, 1,1)\n",
    "    plt.imshow(out_.permute(1, 2, 0))\n",
    "    \n",
    "    \n",
    "    plt.axis('off')\n",
    "    \n",
    "    #plt.savefig(f'/home/GitHub_Repos/GiNN/Results/recon/{model}_{stim}.png', bbox_inches='tight', pad_inches = 0, dpi=150)\n",
    "    \n",
    "    "
   ]
  },
  {
   "cell_type": "code",
   "execution_count": 22,
   "metadata": {},
   "outputs": [],
   "source": [
    "def load_model(model_type,epoch):\n",
    "    #Load CorNet_Z\n",
    "    model = getattr(cornet, 'cornet_z')\n",
    "    model = model(pretrained=False, map_location='cpu') #load model into CPU so we can mess with it\n",
    "    model = make_AE(model,True) #Add autoencoder so that weights load properly\n",
    "\n",
    "    if model_type != 'random':\n",
    "        checkpoint = torch.load(f'{weights_dir}/cornet_initial_{model_type}_{epoch}.pt')\n",
    "        \n",
    "        model.load_state_dict(checkpoint)\n",
    "        \n",
    "    #model = make_AE(model, False) #remove autoencoder so that only the avg pool is tested\n",
    "    \n",
    "\n",
    "    return model"
   ]
  },
  {
   "cell_type": "code",
   "execution_count": 23,
   "metadata": {},
   "outputs": [],
   "source": [
    "#the model, and whether to attach an autoencoder to the end\n",
    "def make_AE(model_,AE):\n",
    "    \n",
    "    model_ = model_.module  # remove DataParallel\n",
    "    \n",
    "    if AE == True:\n",
    "        decode_layer = nn.Sequential(*list(model_[5][:-3]),nn.ReLU(), nn.ConvTranspose2d(1024, 3, 224)) #recreate decoding layer as autoencoder\n",
    "    else:\n",
    "        decode_layer = nn.Sequential(*list(model_[5][:-2])) #remove AE and just leave avgpool\n",
    "        \n",
    "    model_ = nn.Sequential(*list(model_[:-1])) #remove original decoding layer\n",
    "    \n",
    "    \n",
    "    model_.add_module('5', decode_layer) #add AE decoding layer\n",
    "    \n",
    "    model_ = nn.DataParallel(model_.cuda()) #move back to GPU with dataparallel\n",
    "    \n",
    "    return model_\n",
    "    "
   ]
  },
  {
   "cell_type": "code",
   "execution_count": 24,
   "metadata": {},
   "outputs": [],
   "source": [
    "image_dir = f\"/user_data/vayzenbe/OID_v6/face/\"\n",
    "val_dir = image_dir + 'validation'\n",
    "val_dataset = load_stim(val_dir, transform=transform)\n",
    "valloader = torch.utils.data.DataLoader(val_dataset, batch_size=128, shuffle=True, num_workers = 4, pin_memory=True)\n",
    "data = next(iter(valloader))\n",
    "data =data.cuda()"
   ]
  },
  {
   "cell_type": "code",
   "execution_count": 25,
   "metadata": {},
   "outputs": [
    {
     "data": {
      "text/plain": [
       "DataParallel(\n",
       "  (module): Sequential(\n",
       "    (0): CORblock_Z(\n",
       "      (conv): Conv2d(3, 64, kernel_size=(7, 7), stride=(2, 2), padding=(3, 3))\n",
       "      (nonlin): ReLU(inplace=True)\n",
       "      (pool): MaxPool2d(kernel_size=3, stride=2, padding=1, dilation=1, ceil_mode=False)\n",
       "      (output): Identity()\n",
       "    )\n",
       "    (1): CORblock_Z(\n",
       "      (conv): Conv2d(64, 128, kernel_size=(3, 3), stride=(1, 1), padding=(1, 1))\n",
       "      (nonlin): ReLU(inplace=True)\n",
       "      (pool): MaxPool2d(kernel_size=3, stride=2, padding=1, dilation=1, ceil_mode=False)\n",
       "      (output): Identity()\n",
       "    )\n",
       "    (2): CORblock_Z(\n",
       "      (conv): Conv2d(128, 256, kernel_size=(3, 3), stride=(1, 1), padding=(1, 1))\n",
       "      (nonlin): ReLU(inplace=True)\n",
       "      (pool): MaxPool2d(kernel_size=3, stride=2, padding=1, dilation=1, ceil_mode=False)\n",
       "      (output): Identity()\n",
       "    )\n",
       "    (3): CORblock_Z(\n",
       "      (conv): Conv2d(256, 512, kernel_size=(3, 3), stride=(1, 1), padding=(1, 1))\n",
       "      (nonlin): ReLU(inplace=True)\n",
       "      (pool): MaxPool2d(kernel_size=3, stride=2, padding=1, dilation=1, ceil_mode=False)\n",
       "      (output): Identity()\n",
       "    )\n",
       "    (4): CORblock_Z(\n",
       "      (conv): Conv2d(512, 1024, kernel_size=(3, 3), stride=(1, 1), padding=(1, 1))\n",
       "      (nonlin): ReLU(inplace=True)\n",
       "      (pool): MaxPool2d(kernel_size=3, stride=2, padding=1, dilation=1, ceil_mode=False)\n",
       "      (output): Identity()\n",
       "    )\n",
       "    (5): Sequential(\n",
       "      (0): AdaptiveAvgPool2d(output_size=1)\n",
       "      (1): ReLU()\n",
       "      (2): ConvTranspose2d(1024, 3, kernel_size=(224, 224), stride=(1, 1))\n",
       "    )\n",
       "  )\n",
       ")"
      ]
     },
     "execution_count": 25,
     "metadata": {},
     "output_type": "execute_result"
    }
   ],
   "source": [
    "\n",
    "#this is all temporary\n",
    "model = load_model('face',9)\n",
    "model\n",
    "model.eval()\n"
   ]
  },
  {
   "cell_type": "code",
   "execution_count": 26,
   "metadata": {},
   "outputs": [],
   "source": [
    "out = model(data)"
   ]
  },
  {
   "cell_type": "code",
   "execution_count": 27,
   "metadata": {},
   "outputs": [
    {
     "name": "stdout",
     "output_type": "stream",
     "text": [
      "torch.Size([128, 3, 224, 224])\n"
     ]
    }
   ],
   "source": []
  },
  {
   "cell_type": "code",
   "execution_count": 29,
   "metadata": {},
   "outputs": [
    {
     "name": "stderr",
     "output_type": "stream",
     "text": [
      "Clipping input data to the valid range for imshow with RGB data ([0..1] for floats or [0..255] for integers).\n"
     ]
    },
    {
     "name": "stdout",
     "output_type": "stream",
     "text": [
      "tensor([[[0.8642, 0.8871, 0.8994,  ..., 0.2146, 0.1981, 0.1818],\n",
      "         [0.8705, 0.8915, 0.8845,  ..., 0.2045, 0.1812, 0.1619],\n",
      "         [0.8518, 0.8707, 0.8616,  ..., 0.1951, 0.1775, 0.1764],\n",
      "         ...,\n",
      "         [0.7088, 0.7109, 0.7094,  ..., 0.7942, 0.7879, 0.8052],\n",
      "         [0.7252, 0.7199, 0.7157,  ..., 0.8010, 0.7968, 0.8182],\n",
      "         [0.7316, 0.7255, 0.7277,  ..., 0.8181, 0.8163, 0.8348]],\n",
      "\n",
      "        [[0.8589, 0.8838, 0.8940,  ..., 0.2523, 0.2571, 0.2534],\n",
      "         [0.8670, 0.8864, 0.8775,  ..., 0.2433, 0.2425, 0.2366],\n",
      "         [0.8449, 0.8587, 0.8456,  ..., 0.2396, 0.2372, 0.2410],\n",
      "         ...,\n",
      "         [0.8177, 0.8112, 0.7985,  ..., 0.8583, 0.8454, 0.8309],\n",
      "         [0.8263, 0.8186, 0.8040,  ..., 0.8535, 0.8374, 0.8389],\n",
      "         [0.8187, 0.8216, 0.8160,  ..., 0.8609, 0.8550, 0.8627]],\n",
      "\n",
      "        [[0.8322, 0.8515, 0.8527,  ..., 0.2752, 0.2823, 0.2727],\n",
      "         [0.8451, 0.8574, 0.8542,  ..., 0.2690, 0.2708, 0.2553],\n",
      "         [0.8272, 0.8368, 0.8284,  ..., 0.2536, 0.2573, 0.2557],\n",
      "         ...,\n",
      "         [0.8502, 0.8354, 0.8196,  ..., 0.8911, 0.8752, 0.8559],\n",
      "         [0.8612, 0.8514, 0.8335,  ..., 0.8841, 0.8654, 0.8640],\n",
      "         [0.8461, 0.8538, 0.8382,  ..., 0.9036, 0.8905, 0.8916]]])\n"
     ]
    },
    {
     "data": {
      "image/png": "[encoded data removed]",
      "text/plain": [
       "<Figure size 432x288 with 2 Axes>"
      ]
     },
     "metadata": {
      "needs_background": "light"
     },
     "output_type": "display_data"
    }
   ],
   "source": [
    "\n",
    "save_recon(data[6],out[6])"
   ]
  },
  {
   "cell_type": "code",
   "execution_count": 14,
   "metadata": {},
   "outputs": [],
   "source": [
    "\n",
    "out = model"
   ]
  },
  {
   "cell_type": "code",
   "execution_count": null,
   "metadata": {},
   "outputs": [],
   "source": []
  }
 ],
 "metadata": {
  "kernelspec": {
   "display_name": "Python 3",
   "language": "python",
   "name": "python3"
  },
  "language_info": {
   "codemirror_mode": {
    "name": "ipython",
    "version": 3
   },
   "file_extension": ".py",
   "mimetype": "text/x-python",
   "name": "python",
   "nbconvert_exporter": "python",
   "pygments_lexer": "ipython3",
   "version": "3.7.6"
  }
 },
 "nbformat": 4,
 "nbformat_minor": 4
}
