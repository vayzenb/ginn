{
 "cells": [
  {
   "cell_type": "code",
   "execution_count": 37,
   "metadata": {},
   "outputs": [],
   "source": [
    "curr_dir = '/home/vayzenbe/GitHub_Repos/GiNN'\n",
    "\n",
    "import sys\n",
    "sys.path.insert(1, f'{curr_dir}/Models')\n",
    "import os, argparse\n",
    "import torch\n",
    "import torch.nn as nn\n",
    "from torchvision import transforms\n",
    "from torch.autograd import Variable\n",
    "from PIL import Image, ImageOps,  ImageFilter\n",
    "from itertools import chain\n",
    "import pandas as pd\n",
    "import numpy as np\n",
    "import cornet\n",
    "import model_funcs\n",
    "import matplotlib.pyplot as plt\n",
    "from statistics import mean\n",
    "%matplotlib inline"
   ]
  },
  {
   "cell_type": "code",
   "execution_count": 38,
   "metadata": {},
   "outputs": [],
   "source": [
    "stim_dir = f\"{curr_dir}/Stim/\"\n",
    "weights_dir = f\"/lab_data/behrmannlab/vlad/ginn/model_weights\"\n",
    "\n",
    "train_cond = ['general', 'face','imagenet_oneface',\"mixed_imagenet_vggface\"]\n",
    "n_classes = [600, 600,601,1200]\n",
    "#model_types = ['imagenet_objects']\n",
    "#model_types = ['vggface']\n",
    "model_epochs = [5, 10, 15, 20, 25, 30]\n",
    "\n",
    "model_type = 'classify'\n",
    "\n",
    "scaler = transforms.Resize((224, 224))\n",
    "normalize = transforms.Normalize(mean=[0.485, 0.456, 0.406],\n",
    "                                 std=[0.229, 0.224, 0.225])\n",
    "to_tensor = transforms.ToTensor()\n",
    "\n",
    "transform = transforms.Compose([\n",
    "        transforms.ToTensor(),\n",
    "        transforms.Resize((224, 224)),\n",
    "        transforms.Normalize(mean=[0.485, 0.456, 0.406],\n",
    "                             std=[0.229, 0.224, 0.225])])\n",
    "\n",
    "criterion = nn.MSELoss()\n",
    "criterion = criterion.cuda()"
   ]
  },
  {
   "cell_type": "code",
   "execution_count": 39,
   "metadata": {},
   "outputs": [],
   "source": [
    "def image_loader(image_name):\n",
    "    im = Image.open(image_name).convert(\"RGB\")\n",
    "    #make image grayscale\n",
    "    image_name = ImageOps.grayscale(im).convert(\"RGB\")\n",
    "    #image_name = image_name.filter(ImageFilter.GaussianBlur(radius=4))\n",
    "    \"\"\"load image, returns cuda tensor\"\"\"\n",
    "    im = Variable(normalize(to_tensor(scaler(im))).unsqueeze(0))\n",
    "    im = im.cuda()\n",
    "    return im"
   ]
  },
  {
   "cell_type": "code",
   "execution_count": 40,
   "metadata": {},
   "outputs": [],
   "source": [
    "def load_files(dirName):\n",
    "    listOfFiles = list()\n",
    "    for (dirpath, dirnames, filenames) in os.walk(dirName):\n",
    "        listOfFiles += [os.path.join(dirpath, file) for file in filenames]\n",
    "            \n",
    "    return listOfFiles    "
   ]
  },
  {
   "cell_type": "code",
   "execution_count": 41,
   "metadata": {},
   "outputs": [],
   "source": [
    "def habituate_model(encoder, decoder, optimizer, im):\n",
    "    early_hab = 0.0\n",
    "    late_hab = []\n",
    "    \n",
    "    decoder.train()\n",
    "    #start habituation/training loop\n",
    "    for ep in range(0,max_epochs):\n",
    "        train_loss = 0.0 \n",
    "\n",
    "        n = 0\n",
    "\n",
    "        optimizer.zero_grad() #zero out gradients from previous epoch\n",
    "\n",
    "        encode_out = encoder(im)#Get encoder features\n",
    "        \n",
    "        decode_out = decoder(encode_out) #Run features through decoder\n",
    "\n",
    "        loss = criterion(decode_out, im)#Calculate loss\n",
    "\n",
    "        # backward pass: compute gradient of the loss with respect to model parameters\n",
    "        loss.backward()\n",
    "        # perform a single optimization step (parameter update)\n",
    "        optimizer.step()\n",
    "\n",
    "\n",
    "        train_loss += (loss.item()*im.size(0))\n",
    "        n = n +1\n",
    "        #print(train_loss, loss.item()*frames.size(0), n)\n",
    "\n",
    "        if ep < hab_min:\n",
    "            early_hab += train_loss #track loss for the first 4 trials\n",
    "            #print(ep, train_loss)\n",
    "        elif ep >= hab_min:\n",
    "            hab_start = early_hab / hab_min #Determine habituation criterion\n",
    "            late_hab.append(train_loss) #add current loss to habituation\n",
    "            hab_end = mean(late_hab[(len(late_hab)-4):len(late_hab)]) #calcualte mean of last 4 hab trials\n",
    "\n",
    "            #print(ep, train_loss, hab_start, hab_end)\n",
    "            \n",
    "            if hab_end < (hab_start/2) and ep >= int(hab_min *2) or ep == (max_epochs-1): #test if habituated\n",
    "                \n",
    "                return decoder, ep, hab_start, hab_end\n",
    "                break"
   ]
  },
  {
   "cell_type": "code",
   "execution_count": 42,
   "metadata": {},
   "outputs": [],
   "source": [
    "def test_model(encoder, decoder, im):\n",
    "    #test model\n",
    "    decoder.eval()\n",
    "    test_loss = 0.0 \n",
    "    with torch.no_grad():\n",
    "        encode_out = encoder(im)#Get encoder features\n",
    "        decode_out = decoder(encode_out) #Run features through decoder\n",
    "        loss = criterion(decode_out, im) #Calculate loss\n",
    "\n",
    "        test_loss += (loss.item()*im.size(0))\n",
    "        \n",
    "        return test_loss"
   ]
  },
  {
   "cell_type": "code",
   "execution_count": 43,
   "metadata": {},
   "outputs": [],
   "source": [
    "def determine_ident_orient(file_name,cond_dir):\n",
    "\n",
    "    file_name = file_name.replace(f'{stim_dir}/{cond_dir}/','')\n",
    "    identity = file_name.replace('_left.jpg', '')\n",
    "    identity = identity.replace('_right.jpg', '')\n",
    "    identity = identity.replace('_front.jpg', '')\n",
    "\n",
    "    orient = file_name.replace(f'{identity}_', '')\n",
    "    orient = orient.replace('.jpg', '')\n",
    "    \n",
    "    return identity, orient\n"
   ]
  },
  {
   "cell_type": "code",
   "execution_count": 44,
   "metadata": {},
   "outputs": [],
   "source": [
    "def determine_conds(hab_ident, test_ident, hab_orient, test_orient):\n",
    "    if hab_ident == test_ident:\n",
    "        ident_cond = \"same\"\n",
    "    else:\n",
    "        ident_cond = \"diff\"\n",
    "\n",
    "    if hab_orient == test_orient:\n",
    "        orient_cond = \"same\"\n",
    "    else:\n",
    "        orient_cond = \"diff\"\n",
    "\n",
    "    return ident_cond, orient_cond"
   ]
  },
  {
   "cell_type": "code",
   "execution_count": 45,
   "metadata": {},
   "outputs": [],
   "source": [
    "def calc_acc(df, orient):\n",
    "    #Calc front acc\n",
    "    acc =[]\n",
    "    same = df['test_loss'][(df[\"identity\"] == 'same') & (df[\"orient\"] == orient)]\n",
    "    diff = df['test_loss'][(df[\"identity\"] == 'diff') & (df[\"orient\"] == orient)]\n",
    "\n",
    "    for ss in same:\n",
    "        for dd in diff:\n",
    "            acc.append(dd/(ss+dd))   \n",
    "    \n",
    "    return pd.Series(acc).mean(), pd.Series(acc).sem()\n"
   ]
  },
  {
   "cell_type": "code",
   "execution_count": 46,
   "metadata": {},
   "outputs": [],
   "source": [
    "def plot_line(df_plot, df_conds):\n",
    "    \n",
    "    plt.figure()\n",
    "    for dc in df_conds:    \n",
    "        plt.errorbar(df_plot['epoch'], df_plot[dc],  yerr=df_plot[f'{dc}_se'], label=dc)\n",
    "    \n",
    "  \n",
    "    plt.xlabel(\"Epochs\")\n",
    "    plt.ylabel(\"Activation/Preference\")\n",
    "    #ax.set_ylabel('Activation')\n",
    "    #print(f'{df_plot[\"model][0]}-test')\n",
    "    plt.title(f'{df_plot[\"model_type\"][0]} model trained with {df_plot[\"train_type\"][0]}')\n",
    "    plt.legend(bbox_to_anchor=(1.05, 1.0), loc='upper left')\n",
    "    plt.tight_layout()\n",
    "    plt.savefig(f'{curr_dir}/Results/orientation/figures/{df_plot[\"model_type\"][0]}_{df_plot[\"train_type\"][0]}.png',bbox_inches='tight')\n",
    "    "
   ]
  },
  {
   "cell_type": "markdown",
   "metadata": {},
   "source": [
    "Viewpoint invariance experiment"
   ]
  },
  {
   "cell_type": "code",
   "execution_count": 24,
   "metadata": {},
   "outputs": [],
   "source": [
    "hab_cond = 'cfmt_front'\n",
    "test_cond = 'cfmt'\n",
    "\n",
    "hab_min = 3\n",
    "max_epochs = 24\n"
   ]
  },
  {
   "cell_type": "code",
   "execution_count": 34,
   "metadata": {
    "collapsed": true,
    "jupyter": {
     "outputs_hidden": true,
     "source_hidden": true
    }
   },
   "outputs": [
    {
     "ename": "KeyboardInterrupt",
     "evalue": "",
     "output_type": "error",
     "traceback": [
      "\u001b[0;31m---------------------------------------------------------------------------\u001b[0m",
      "\u001b[0;31mKeyboardInterrupt\u001b[0m                         Traceback (most recent call last)",
      "\u001b[0;32m<ipython-input-34-a7fbd9087a80>\u001b[0m in \u001b[0;36m<module>\u001b[0;34m\u001b[0m\n\u001b[1;32m      9\u001b[0m         \u001b[0;31m#load model\u001b[0m\u001b[0;34m\u001b[0m\u001b[0;34m\u001b[0m\u001b[0;34m\u001b[0m\u001b[0m\n\u001b[1;32m     10\u001b[0m         \u001b[0mencoder\u001b[0m \u001b[0;34m=\u001b[0m \u001b[0mmodel_funcs\u001b[0m\u001b[0;34m.\u001b[0m\u001b[0mload_model\u001b[0m\u001b[0;34m(\u001b[0m\u001b[0mmodel_type\u001b[0m\u001b[0;34m,\u001b[0m \u001b[0mtc\u001b[0m\u001b[0;34m,\u001b[0m \u001b[0mee\u001b[0m\u001b[0;34m,\u001b[0m \u001b[0mweights_dir\u001b[0m\u001b[0;34m,\u001b[0m \u001b[0mn_classes\u001b[0m\u001b[0;34m[\u001b[0m\u001b[0mtcn\u001b[0m\u001b[0;34m]\u001b[0m\u001b[0;34m)\u001b[0m\u001b[0;34m\u001b[0m\u001b[0;34m\u001b[0m\u001b[0m\n\u001b[0;32m---> 11\u001b[0;31m         \u001b[0mencoder\u001b[0m\u001b[0;34m,\u001b[0m \u001b[0mdecoder\u001b[0m \u001b[0;34m=\u001b[0m \u001b[0mmodel_funcs\u001b[0m\u001b[0;34m.\u001b[0m\u001b[0mmake_ae_decoder\u001b[0m\u001b[0;34m(\u001b[0m\u001b[0mencoder\u001b[0m\u001b[0;34m)\u001b[0m\u001b[0;34m\u001b[0m\u001b[0;34m\u001b[0m\u001b[0m\n\u001b[0m\u001b[1;32m     12\u001b[0m         \u001b[0mencoder\u001b[0m\u001b[0;34m.\u001b[0m\u001b[0meval\u001b[0m\u001b[0;34m(\u001b[0m\u001b[0;34m)\u001b[0m\u001b[0;34m\u001b[0m\u001b[0;34m\u001b[0m\u001b[0m\n\u001b[1;32m     13\u001b[0m \u001b[0;34m\u001b[0m\u001b[0m\n",
      "\u001b[0;32m~/GitHub_Repos/GiNN/Models/model_funcs.py\u001b[0m in \u001b[0;36mmake_ae_decoder\u001b[0;34m(model)\u001b[0m\n\u001b[1;32m     51\u001b[0m \u001b[0;34m\u001b[0m\u001b[0m\n\u001b[1;32m     52\u001b[0m     \u001b[0mconvT2d\u001b[0m \u001b[0;34m=\u001b[0m \u001b[0mnn\u001b[0m\u001b[0;34m.\u001b[0m\u001b[0mConvTranspose2d\u001b[0m\u001b[0;34m(\u001b[0m\u001b[0;36m1024\u001b[0m\u001b[0;34m,\u001b[0m \u001b[0;36m3\u001b[0m\u001b[0;34m,\u001b[0m \u001b[0;36m224\u001b[0m\u001b[0;34m)\u001b[0m\u001b[0;34m\u001b[0m\u001b[0;34m\u001b[0m\u001b[0m\n\u001b[0;32m---> 53\u001b[0;31m     \u001b[0mtorch\u001b[0m\u001b[0;34m.\u001b[0m\u001b[0mnn\u001b[0m\u001b[0;34m.\u001b[0m\u001b[0minit\u001b[0m\u001b[0;34m.\u001b[0m\u001b[0mkaiming_uniform_\u001b[0m\u001b[0;34m(\u001b[0m\u001b[0mconvT2d\u001b[0m\u001b[0;34m.\u001b[0m\u001b[0mweight\u001b[0m\u001b[0;34m,\u001b[0m \u001b[0ma\u001b[0m\u001b[0;34m=\u001b[0m\u001b[0;36m0\u001b[0m\u001b[0;34m,\u001b[0m \u001b[0mmode\u001b[0m\u001b[0;34m=\u001b[0m\u001b[0;34m'fan_in'\u001b[0m\u001b[0;34m,\u001b[0m \u001b[0mnonlinearity\u001b[0m\u001b[0;34m=\u001b[0m\u001b[0;34m'relu'\u001b[0m\u001b[0;34m)\u001b[0m\u001b[0;34m\u001b[0m\u001b[0;34m\u001b[0m\u001b[0m\n\u001b[0m\u001b[1;32m     54\u001b[0m     \u001b[0mdecoder\u001b[0m \u001b[0;34m=\u001b[0m \u001b[0mnn\u001b[0m\u001b[0;34m.\u001b[0m\u001b[0mSequential\u001b[0m\u001b[0;34m(\u001b[0m\u001b[0mnn\u001b[0m\u001b[0;34m.\u001b[0m\u001b[0mReLU\u001b[0m\u001b[0;34m(\u001b[0m\u001b[0;34m)\u001b[0m\u001b[0;34m,\u001b[0m \u001b[0mconvT2d\u001b[0m\u001b[0;34m)\u001b[0m \u001b[0;31m#recreate decoding layer as autoencoder; currently ontop of FC layer\u001b[0m\u001b[0;34m\u001b[0m\u001b[0;34m\u001b[0m\u001b[0m\n\u001b[1;32m     55\u001b[0m     \u001b[0mlast_layer\u001b[0m \u001b[0;34m=\u001b[0m \u001b[0mnn\u001b[0m\u001b[0;34m.\u001b[0m\u001b[0mSequential\u001b[0m\u001b[0;34m(\u001b[0m\u001b[0;34m*\u001b[0m\u001b[0mlist\u001b[0m\u001b[0;34m(\u001b[0m\u001b[0mmodel\u001b[0m\u001b[0;34m[\u001b[0m\u001b[0;36m5\u001b[0m\u001b[0;34m]\u001b[0m\u001b[0;34m[\u001b[0m\u001b[0;34m:\u001b[0m\u001b[0;34m-\u001b[0m\u001b[0;36m3\u001b[0m\u001b[0;34m]\u001b[0m\u001b[0;34m)\u001b[0m\u001b[0;34m)\u001b[0m \u001b[0;31m#create stripped version of last decoding layer\u001b[0m\u001b[0;34m\u001b[0m\u001b[0;34m\u001b[0m\u001b[0m\n",
      "\u001b[0;32m~/anaconda3/lib/python3.7/site-packages/torch/nn/init.py\u001b[0m in \u001b[0;36mkaiming_uniform_\u001b[0;34m(tensor, a, mode, nonlinearity)\u001b[0m\n\u001b[1;32m    325\u001b[0m     \u001b[0mbound\u001b[0m \u001b[0;34m=\u001b[0m \u001b[0mmath\u001b[0m\u001b[0;34m.\u001b[0m\u001b[0msqrt\u001b[0m\u001b[0;34m(\u001b[0m\u001b[0;36m3.0\u001b[0m\u001b[0;34m)\u001b[0m \u001b[0;34m*\u001b[0m \u001b[0mstd\u001b[0m  \u001b[0;31m# Calculate uniform bounds from standard deviation\u001b[0m\u001b[0;34m\u001b[0m\u001b[0;34m\u001b[0m\u001b[0m\n\u001b[1;32m    326\u001b[0m     \u001b[0;32mwith\u001b[0m \u001b[0mtorch\u001b[0m\u001b[0;34m.\u001b[0m\u001b[0mno_grad\u001b[0m\u001b[0;34m(\u001b[0m\u001b[0;34m)\u001b[0m\u001b[0;34m:\u001b[0m\u001b[0;34m\u001b[0m\u001b[0;34m\u001b[0m\u001b[0m\n\u001b[0;32m--> 327\u001b[0;31m         \u001b[0;32mreturn\u001b[0m \u001b[0mtensor\u001b[0m\u001b[0;34m.\u001b[0m\u001b[0muniform_\u001b[0m\u001b[0;34m(\u001b[0m\u001b[0;34m-\u001b[0m\u001b[0mbound\u001b[0m\u001b[0;34m,\u001b[0m \u001b[0mbound\u001b[0m\u001b[0;34m)\u001b[0m\u001b[0;34m\u001b[0m\u001b[0;34m\u001b[0m\u001b[0m\n\u001b[0m\u001b[1;32m    328\u001b[0m \u001b[0;34m\u001b[0m\u001b[0m\n\u001b[1;32m    329\u001b[0m \u001b[0;34m\u001b[0m\u001b[0m\n",
      "\u001b[0;31mKeyboardInterrupt\u001b[0m: "
     ]
    }
   ],
   "source": [
    "'''\n",
    "Habituation dishabituation loop\n",
    "'''\n",
    "hab_files = load_files(f'{stim_dir}/{hab_cond}')\n",
    "test_files = load_files(f'{stim_dir}/{test_cond}')\n",
    "\n",
    "for tcn, tc  in enumerate(train_cond):\n",
    "    for ee in model_epochs:\n",
    "        #load model \n",
    "        encoder = model_funcs.load_model(model_type, tc, ee, weights_dir, n_classes[tcn])\n",
    "        encoder, decoder = model_funcs.make_ae_decoder(encoder)\n",
    "        encoder.eval()\n",
    "\n",
    "        optimizer = torch.optim.Adam(decoder.parameters(), lr=0.01)\n",
    "\n",
    "        df = pd.DataFrame(columns = ['model_type', 'train_type', 'epoch',\n",
    "                                     'hab_im', 'test_im', 'identity', 'orient',\n",
    "                                     'hab_trials', 'hab_start', 'hab_end', 'test_loss']) \n",
    "\n",
    "        for hab_im in hab_files:\n",
    "\n",
    "            hab_ident, hab_orient = determine_ident_orient(hab_im,hab_cond)\n",
    "\n",
    "            im = image_loader(hab_im)\n",
    "            #run habituation on current image and model; return trained decoder\n",
    "            decoder, hab_trials, hab_start, hab_end  = habituate_model(encoder, decoder, optimizer, im)\n",
    "\n",
    "            for test_im in test_files:\n",
    "                #test_im= \"/home/vayzenbe/GitHub_Repos/GiNN/Stim//cfmt/Jim_left.jpg\"\n",
    "\n",
    "                test_ident, test_orient = determine_ident_orient(test_im,test_cond)\n",
    "\n",
    "\n",
    "                im = image_loader(test_im)\n",
    "                test_loss = test_model(encoder,decoder, im)\n",
    "\n",
    "                ident_cond, orient_cond = determine_conds(hab_ident, test_ident, hab_orient, test_orient)\n",
    "                trial_results = [model_type, tc, ee, hab_im, test_im,ident_cond, orient_cond, hab_trials, hab_start, hab_end, test_loss]\n",
    "                #print(trial_results)\n",
    "                trial_results = pd.Series(trial_results, index = df.columns)\n",
    "                df = df.append(trial_results, ignore_index=True)\n",
    "\n",
    "        df.to_csv(f'{curr_dir}/Results/orientation/{model_type}_{tc}_{ee}_orientation.csv', sep =\",\", index = False)\n"
   ]
  },
  {
   "cell_type": "code",
   "execution_count": 30,
   "metadata": {
    "collapsed": true,
    "jupyter": {
     "outputs_hidden": true
    }
   },
   "outputs": [
    {
     "data": {
      "image/png": "[encoded data removed]",
      "text/plain": [
       "<Figure size 432x288 with 1 Axes>"
      ]
     },
     "metadata": {
      "needs_background": "light"
     },
     "output_type": "display_data"
    }
   ],
   "source": [
    "'''\n",
    "Data plotting loop\n",
    "'''\n",
    "for tcn, tc  in enumerate(train_cond):\n",
    "    summary_df = pd.DataFrame(columns = ['model_type', 'train_type', 'epoch',\n",
    "                                     'front', 'side','front_se', 'side_se'])\n",
    "    for ee in model_epochs:\n",
    "        df = pd.read_csv(f'{curr_dir}/Results/orientation/{model_type}_{tc}_{ee}_orientation.csv')\n",
    "        \n",
    "        #append front accuracy and SE\n",
    "        front_acc, front_se = calc_acc(df, 'same')\n",
    "        side_acc, side_se = calc_acc(df, 'diff')\n",
    "        \n",
    "        temp_df = pd.Series([df['model_type'][0],df['train_type'][0], df['epoch'][0], \n",
    "                             front_acc, side_acc, front_se,side_se],\n",
    "                            index = summary_df.columns) \n",
    "        summary_df = summary_df.append(temp_df, ignore_index = True)\n",
    "    \n",
    "    plot_line(summary_df, ['front', 'side'])\n",
    "    \n",
    "    \n",
    "        \n",
    "        "
   ]
  },
  {
   "cell_type": "markdown",
   "metadata": {},
   "source": [
    "Other species experiment"
   ]
  },
  {
   "cell_type": "code",
   "execution_count": 58,
   "metadata": {},
   "outputs": [],
   "source": [
    "hab_cond = 'facegen_front'\n",
    "test_cond = 'facegen_front'\n",
    "\n",
    "hab_min = 2\n",
    "max_epochs = 4"
   ]
  },
  {
   "cell_type": "code",
   "execution_count": 59,
   "metadata": {},
   "outputs": [],
   "source": [
    "'''\n",
    "Habituation dishabituation loop\n",
    "'''\n",
    "hab_files = load_files(f'{stim_dir}/{hab_cond}')\n",
    "test_files = load_files(f'{stim_dir}/{test_cond}')\n",
    "\n",
    "for tcn, tc  in enumerate(train_cond):\n",
    "    for ee in model_epochs:\n",
    "        #load model \n",
    "        encoder = model_funcs.load_model(model_type, tc, ee, weights_dir, n_classes[tcn])\n",
    "        encoder, decoder = model_funcs.make_ae_decoder(encoder)\n",
    "        encoder.eval()\n",
    "\n",
    "        optimizer = torch.optim.Adam(decoder.parameters(), lr=0.01)\n",
    "\n",
    "        df = pd.DataFrame(columns = ['model_type', 'train_type', 'epoch',\n",
    "                                     'hab_im', 'test_im', 'identity',\n",
    "                                     'hab_trials', 'hab_start', 'hab_end', 'test_loss']) \n",
    "\n",
    "        for hab_im in hab_files:\n",
    "\n",
    "            #hab_ident, hab_orient = determine_ident_orient(hab_im,hab_cond)\n",
    "\n",
    "            im = image_loader(hab_im)\n",
    "            #run habituation on current image and model; return trained decoder\n",
    "            decoder, hab_trials, hab_start, hab_end  = habituate_model(encoder, decoder, optimizer, im)\n",
    "\n",
    "            for test_im in test_files:\n",
    "                #test_im= \"/home/vayzenbe/GitHub_Repos/GiNN/Stim//cfmt/Jim_left.jpg\"\n",
    "\n",
    "                #test_ident, test_orient = determine_ident_orient(test_im,test_cond)\n",
    "\n",
    "\n",
    "                im = image_loader(test_im)\n",
    "                test_loss = test_model(encoder,decoder, im)\n",
    "\n",
    "                if hab_im == test_im:\n",
    "                    ident_cond = 'same'\n",
    "                else:\n",
    "                    ident_cond = 'diff'\n",
    "                \n",
    "                trial_results = [model_type, tc, ee, hab_im, test_im,ident_cond, hab_trials, hab_start, hab_end, test_loss]\n",
    "                #print(trial_results)\n",
    "                trial_results = pd.Series(trial_results, index = df.columns)\n",
    "                df = df.append(trial_results, ignore_index=True)\n",
    "\n",
    "        df.to_csv(f'{curr_dir}/Results/other_species/{model_type}_{tc}_{ee}_{hab_cond}.csv', sep =\",\", index = False)\n"
   ]
  },
  {
   "cell_type": "code",
   "execution_count": 60,
   "metadata": {},
   "outputs": [],
   "source": [
    "def calc_species_acc(df):\n",
    "    #Calc front acc\n",
    "    acc =[]\n",
    "    same = df['test_loss'][(df[\"identity\"] == 'same')]\n",
    "    diff = df['test_loss'][(df[\"identity\"] == 'diff')]\n",
    "\n",
    "    for ss in same:\n",
    "        for dd in diff:\n",
    "            acc.append(dd/(ss+dd))   \n",
    "    \n",
    "    return pd.Series(acc).mean(), pd.Series(acc).sem()\n"
   ]
  },
  {
   "cell_type": "code",
   "execution_count": 64,
   "metadata": {},
   "outputs": [
    {
     "data": {
      "image/png": "[encoded data removed]",
      "text/plain": [
       "<Figure size 432x288 with 1 Axes>"
      ]
     },
     "metadata": {
      "needs_background": "light"
     },
     "output_type": "display_data"
    },
    {
     "data": {
      "image/png": "[encoded data removed]",
      "text/plain": [
       "<Figure size 432x288 with 1 Axes>"
      ]
     },
     "metadata": {
      "needs_background": "light"
     },
     "output_type": "display_data"
    },
    {
     "data": {
      "image/png": "[encoded data removed]",
      "text/plain": [
       "<Figure size 432x288 with 1 Axes>"
      ]
     },
     "metadata": {
      "needs_background": "light"
     },
     "output_type": "display_data"
    },
    {
     "data": {
      "image/png": "[encoded data removed]",
      "text/plain": [
       "<Figure size 432x288 with 1 Axes>"
      ]
     },
     "metadata": {
      "needs_background": "light"
     },
     "output_type": "display_data"
    }
   ],
   "source": [
    "'''\n",
    "Data plotting loop\n",
    "'''\n",
    "for tcn, tc  in enumerate(train_cond):\n",
    "    summary_df = pd.DataFrame(columns = ['model_type', 'train_type', 'epoch',\n",
    "                                     'monkey', 'monkey_se', \"human\", \"human_se\"])\n",
    "    for ee in model_epochs:\n",
    "        df_monkey = pd.read_csv(f'{curr_dir}/Results/other_species/{model_type}_{tc}_{ee}_monkey_front.csv')\n",
    "        df_human = pd.read_csv(f'{curr_dir}/Results/other_species/{model_type}_{tc}_{ee}_facegen_front.csv')\n",
    "        \n",
    "        #append front accuracy and SE\n",
    "        monkey_acc, monkey_se = calc_species_acc(df_monkey)\n",
    "        human_acc, human_se = calc_species_acc(df_human)\n",
    "        \n",
    "        \n",
    "        temp_df = pd.Series([df['model_type'][0],df['train_type'][0], df['epoch'][0], \n",
    "                             monkey_acc, monkey_se, human_acc, human_se],\n",
    "                            index = summary_df.columns) \n",
    "        summary_df = summary_df.append(temp_df, ignore_index = True)\n",
    "    \n",
    "    plot_line(summary_df, ['monkey', 'human'])"
   ]
  },
  {
   "cell_type": "code",
   "execution_count": 67,
   "metadata": {},
   "outputs": [
    {
     "data": {
      "text/html": [
       "<div>\n",
       "<style scoped>\n",
       "    .dataframe tbody tr th:only-of-type {\n",
       "        vertical-align: middle;\n",
       "    }\n",
       "\n",
       "    .dataframe tbody tr th {\n",
       "        vertical-align: top;\n",
       "    }\n",
       "\n",
       "    .dataframe thead th {\n",
       "        text-align: right;\n",
       "    }\n",
       "</style>\n",
       "<table border=\"1\" class=\"dataframe\">\n",
       "  <thead>\n",
       "    <tr style=\"text-align: right;\">\n",
       "      <th></th>\n",
       "      <th>model_type</th>\n",
       "      <th>train_type</th>\n",
       "      <th>epoch</th>\n",
       "      <th>monkey</th>\n",
       "      <th>monkey_se</th>\n",
       "      <th>human</th>\n",
       "      <th>human_se</th>\n",
       "    </tr>\n",
       "  </thead>\n",
       "  <tbody>\n",
       "    <tr>\n",
       "      <th>0</th>\n",
       "      <td>classify</td>\n",
       "      <td>face</td>\n",
       "      <td>30</td>\n",
       "      <td>0.621172</td>\n",
       "      <td>0.002087</td>\n",
       "      <td>0.626487</td>\n",
       "      <td>0.001945</td>\n",
       "    </tr>\n",
       "    <tr>\n",
       "      <th>1</th>\n",
       "      <td>classify</td>\n",
       "      <td>face</td>\n",
       "      <td>30</td>\n",
       "      <td>0.604610</td>\n",
       "      <td>0.002330</td>\n",
       "      <td>0.591225</td>\n",
       "      <td>0.002253</td>\n",
       "    </tr>\n",
       "    <tr>\n",
       "      <th>2</th>\n",
       "      <td>classify</td>\n",
       "      <td>face</td>\n",
       "      <td>30</td>\n",
       "      <td>0.586258</td>\n",
       "      <td>0.002413</td>\n",
       "      <td>0.614792</td>\n",
       "      <td>0.002316</td>\n",
       "    </tr>\n",
       "    <tr>\n",
       "      <th>3</th>\n",
       "      <td>classify</td>\n",
       "      <td>face</td>\n",
       "      <td>30</td>\n",
       "      <td>0.601144</td>\n",
       "      <td>0.002365</td>\n",
       "      <td>0.612004</td>\n",
       "      <td>0.002375</td>\n",
       "    </tr>\n",
       "    <tr>\n",
       "      <th>4</th>\n",
       "      <td>classify</td>\n",
       "      <td>face</td>\n",
       "      <td>30</td>\n",
       "      <td>0.582642</td>\n",
       "      <td>0.002357</td>\n",
       "      <td>0.610909</td>\n",
       "      <td>0.002368</td>\n",
       "    </tr>\n",
       "    <tr>\n",
       "      <th>5</th>\n",
       "      <td>classify</td>\n",
       "      <td>face</td>\n",
       "      <td>30</td>\n",
       "      <td>0.626593</td>\n",
       "      <td>0.002000</td>\n",
       "      <td>0.609332</td>\n",
       "      <td>0.002365</td>\n",
       "    </tr>\n",
       "  </tbody>\n",
       "</table>\n",
       "</div>"
      ],
      "text/plain": [
       "  model_type train_type epoch    monkey  monkey_se     human  human_se\n",
       "0   classify       face    30  0.621172   0.002087  0.626487  0.001945\n",
       "1   classify       face    30  0.604610   0.002330  0.591225  0.002253\n",
       "2   classify       face    30  0.586258   0.002413  0.614792  0.002316\n",
       "3   classify       face    30  0.601144   0.002365  0.612004  0.002375\n",
       "4   classify       face    30  0.582642   0.002357  0.610909  0.002368\n",
       "5   classify       face    30  0.626593   0.002000  0.609332  0.002365"
      ]
     },
     "execution_count": 67,
     "metadata": {},
     "output_type": "execute_result"
    }
   ],
   "source": [
    "summary_df"
   ]
  },
  {
   "cell_type": "code",
   "execution_count": 16,
   "metadata": {},
   "outputs": [],
   "source": [
    "test3 = torch.reshape(test2, (1,1024,1,1))"
   ]
  },
  {
   "cell_type": "code",
   "execution_count": 17,
   "metadata": {},
   "outputs": [
    {
     "data": {
      "text/plain": [
       "torch.Size([1, 1024, 1, 1])"
      ]
     },
     "execution_count": 17,
     "metadata": {},
     "output_type": "execute_result"
    }
   ],
   "source": [
    "test3.shape"
   ]
  },
  {
   "cell_type": "code",
   "execution_count": null,
   "metadata": {},
   "outputs": [],
   "source": []
  }
 ],
 "metadata": {
  "kernelspec": {
   "display_name": "Python 3",
   "language": "python",
   "name": "python3"
  },
  "language_info": {
   "codemirror_mode": {
    "name": "ipython",
    "version": 3
   },
   "file_extension": ".py",
   "mimetype": "text/x-python",
   "name": "python",
   "nbconvert_exporter": "python",
   "pygments_lexer": "ipython3",
   "version": "3.7.6"
  }
 },
 "nbformat": 4,
 "nbformat_minor": 4
}
