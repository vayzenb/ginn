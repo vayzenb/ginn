{
 "cells": [
  {
   "cell_type": "code",
   "execution_count": 1,
   "metadata": {},
   "outputs": [],
   "source": [
    "curr_dir = '/home/vayzenbe/GitHub_Repos/GiNN'\n",
    "\n",
    "import sys\n",
    "sys.path.insert(1, f'{curr_dir}/Models')\n",
    "import os, argparse\n",
    "import torch\n",
    "import torch.nn as nn\n",
    "from torchvision import transforms\n",
    "from torch.autograd import Variable\n",
    "from PIL import Image, ImageOps,  ImageFilter\n",
    "from itertools import chain\n",
    "import pandas as pd\n",
    "import numpy as np\n",
    "import cornet\n",
    "import model_funcs\n",
    "import matplotlib.pyplot as plt\n",
    "from statistics import mean\n",
    "%matplotlib inline\n",
    "import LoadFrames\n",
    "import load_without_faces"
   ]
  },
  {
   "cell_type": "code",
   "execution_count": 2,
   "metadata": {},
   "outputs": [],
   "source": [
    "stim_dir = f\"{curr_dir}/Stim/\"\n",
    "weights_dir = f\"/lab_data/behrmannlab/vlad/ginn/model_weights\"\n",
    "\n",
    "im_cond = ['cropped_face', 'schematic']\n",
    "\n",
    "\n",
    "train_cond = [ 'imagenet_oneface','mixed_imagenet_vggface']\n",
    "n_classes = [601,1200]\n",
    "\n",
    "\n",
    "#train_cond = ['general']\n",
    "#n_classes = [600]\n",
    "#train_cond = ['imagenet_objects']\n",
    "#model_types = ['vggface']\n",
    "model_epochs = [0, 1, 5, 10, 15, 20, 25, 30]\n",
    "\n",
    "\n",
    "model_type = 'classify'\n",
    "layer =['out', 'aIT','pIT', 'V4', 'V2', 'V1']\n",
    "\n",
    "\n",
    "\n",
    "transform = transforms.Compose([\n",
    "        transforms.Resize((224, 224)),\n",
    "        transforms.Grayscale(num_output_channels=3),\n",
    "        transforms.ToTensor(),\n",
    "        transforms.Normalize(mean=[0.485, 0.456, 0.406],\n",
    "                                             std=[0.229, 0.224, 0.225])])\n",
    "\n",
    "cos = nn.CosineSimilarity(dim=0, eps=1e-6)"
   ]
  },
  {
   "cell_type": "code",
   "execution_count": 3,
   "metadata": {},
   "outputs": [],
   "source": [
    "def load_files(dirName):\n",
    "    listOfFiles = list()\n",
    "    for (dirpath, dirnames, filenames) in os.walk(dirName):\n",
    "        listOfFiles += [os.path.join(dirpath, file) for file in filenames]\n",
    "            \n",
    "    return listOfFiles    "
   ]
  },
  {
   "cell_type": "code",
   "execution_count": 4,
   "metadata": {},
   "outputs": [],
   "source": [
    "def extract_acts(model):\n",
    "    \"\"\"\n",
    "    Extracts the activations for a series of images\n",
    "    \"\"\"\n",
    "    model.eval()\n",
    "\n",
    "    with torch.no_grad():\n",
    "        for im, label in loader:\n",
    "            im = im.cuda()\n",
    "            output = model(im)\n",
    "            output =output.view(output.size(0), -1)\n",
    "            \n",
    "    return output, label"
   ]
  },
  {
   "cell_type": "markdown",
   "metadata": {
    "tags": []
   },
   "source": [
    "## Viewpoint invariance experiment"
   ]
  },
  {
   "cell_type": "code",
   "execution_count": 5,
   "metadata": {},
   "outputs": [],
   "source": [
    "def determine_ident_orient(file_name):\n",
    "    \"\"\"\n",
    "    Takes a file name and extracts the identity and head orientation\n",
    "    \"\"\"\n",
    "\n",
    "    #file_name = file_name.replace(f'{stim_dir}/{cond_dir}/','')\n",
    "    identity = file_name.replace('_left.jpg', '')\n",
    "    identity = identity.replace('_right.jpg', '')\n",
    "    identity = identity.replace('_front.jpg', '')\n",
    "\n",
    "    orient = file_name.replace(f'{identity}_', '')\n",
    "    orient = orient.replace('.jpg', '')\n",
    "    \n",
    "    return identity, orient\n"
   ]
  },
  {
   "cell_type": "code",
   "execution_count": 6,
   "metadata": {},
   "outputs": [],
   "source": [
    "def determine_conds(hab_ident, test_ident, hab_orient, test_orient):\n",
    "    \"\"\"\n",
    "    determines the identity and orientation condition from two images\n",
    "    \"\"\"\n",
    "    \n",
    "    if hab_ident == test_ident:\n",
    "        ident_cond = \"same\"\n",
    "    else:\n",
    "        ident_cond = \"diff\"\n",
    "\n",
    "    if hab_orient == test_orient:\n",
    "        orient_cond = \"same\"\n",
    "    else:\n",
    "        orient_cond = \"diff\"\n",
    "\n",
    "    return ident_cond, orient_cond"
   ]
  },
  {
   "cell_type": "code",
   "execution_count": 7,
   "metadata": {},
   "outputs": [],
   "source": [
    "test_cond = 'cfmt'\n",
    "im_dir = f'{stim_dir}/{test_cond}'\n",
    "im_files = load_files(im_dir)\n",
    "im_count = len(im_files)\n",
    "\n",
    "#set up data loader for full sample\n",
    "dataset = load_without_faces.load_stim(train_dir, exclude_im, exclude_folder, transform=transform)\n",
    "loader = torch.utils.data.DataLoader(dataset, batch_size=im_count, shuffle=False,num_workers = 4, pin_memory=True)\n",
    "\n",
    "for tcn, tc  in enumerate(train_cond): #loop through model conditions\n",
    "    for ee in model_epochs: #loop through model epochs\n",
    "        #load model \n",
    "        base_model = model_funcs.load_model(model_type, tc, ee, weights_dir, n_classes[tcn])\n",
    "        \n",
    "        for ll in layer:\n",
    "            model = model_funcs.remove_layer(base_model, ll)\n",
    "            output, label = extract_acts(model)\n",
    "\n",
    "\n",
    "            df = pd.DataFrame(columns = ['model_type', 'train_type', 'epoch',\n",
    "                                                 'im1', 'im2', 'identity', 'orient',\n",
    "                                                 'similarity']) \n",
    "            for ii in range(0,len(output)):\n",
    "                im1_ident, im1_orient = determine_ident_orient(label[ii])\n",
    "                for kk in range(ii+1,len(output)):\n",
    "                    im2_ident, im2_orient = determine_ident_orient(label[kk])\n",
    "\n",
    "                    sim = cos(output[ii], output[kk])\n",
    "                    sim =sim.cpu().numpy()\n",
    "\n",
    "                    ident_cond, orient_cond = determine_conds(im1_ident, im2_ident, im1_orient, im2_orient)\n",
    "\n",
    "                    trial_results = [model_type, tc, ee, label[ii], label[kk],ident_cond, orient_cond,sim]\n",
    "                    #print(trial_results)\n",
    "                    trial_results = pd.Series(trial_results, index = df.columns)\n",
    "                    df = df.append(trial_results, ignore_index=True)\n",
    "\n",
    "\n",
    "            df.to_csv(f'{curr_dir}/Results/orientation/{model_type}_{tc}_{ee}_{ll}.csv', sep =\",\", index = False)\n",
    "\n"
   ]
  },
  {
   "cell_type": "code",
   "execution_count": 8,
   "metadata": {},
   "outputs": [],
   "source": [
    "def image_loader(image_name):\n",
    "    im = Image.open(image_name).convert(\"RGB\")\n",
    "    #make image grayscale\n",
    "    image_name = ImageOps.grayscale(im).convert(\"RGB\")\n",
    "    #image_name = image_name.filter(ImageFilter.GaussianBlur(radius=4))\n",
    "    \"\"\"load image, returns cuda tensor\"\"\"\n",
    "    im = Variable(normalize(to_tensor(scaler(im))).unsqueeze(0))\n",
    "    im = im.cuda()\n",
    "    return im"
   ]
  },
  {
   "cell_type": "code",
   "execution_count": 9,
   "metadata": {},
   "outputs": [],
   "source": [
    "def calc_acc(df, orient):\n",
    "    #Calc front acc\n",
    "    acc =[]\n",
    "    same = df['test_loss'][(df[\"identity\"] == 'same') & (df[\"orient\"] == orient)]\n",
    "    diff = df['test_loss'][(df[\"identity\"] == 'diff') & (df[\"orient\"] == orient)]\n",
    "\n",
    "    for ss in same:\n",
    "        for dd in diff:\n",
    "            acc.append(dd/(ss+dd))   \n",
    "    \n",
    "    return pd.Series(acc).mean(), pd.Series(acc).sem()\n"
   ]
  },
  {
   "cell_type": "code",
   "execution_count": 10,
   "metadata": {},
   "outputs": [],
   "source": [
    "def plot_line(df_plot, df_conds):\n",
    "    \n",
    "    plt.figure()\n",
    "    for dc in df_conds:    \n",
    "        plt.errorbar(df_plot['epoch'], df_plot[dc],  yerr=df_plot[f'{dc}_se'], label=dc)\n",
    "    \n",
    "  \n",
    "    plt.xlabel(\"Epochs\")\n",
    "    plt.ylabel(\"Activation/Preference\")\n",
    "    #ax.set_ylabel('Activation')\n",
    "    #print(f'{df_plot[\"model][0]}-test')\n",
    "    plt.title(f'{df_plot[\"model_type\"][0]} model trained with {df_plot[\"train_type\"][0]}')\n",
    "    plt.legend(bbox_to_anchor=(1.05, 1.0), loc='upper left')\n",
    "    plt.tight_layout()\n",
    "    plt.savefig(f'{curr_dir}/Results/orientation/figures/{df_plot[\"model_type\"][0]}_{df_plot[\"train_type\"][0]}.png',bbox_inches='tight')\n",
    "    "
   ]
  },
  {
   "cell_type": "markdown",
   "metadata": {},
   "source": [
    "## Other species experiment"
   ]
  },
  {
   "cell_type": "code",
   "execution_count": 11,
   "metadata": {},
   "outputs": [],
   "source": [
    "def calc_species_acc(df):\n",
    "    #Calc front acc\n",
    "    acc =[]\n",
    "    same = df['test_loss'][(df[\"identity\"] == 'same')]\n",
    "    diff = df['test_loss'][(df[\"identity\"] == 'diff')]\n",
    "\n",
    "    for ss in same:\n",
    "        for dd in diff:\n",
    "            acc.append(dd/(ss+dd))   \n",
    "    \n",
    "    return pd.Series(acc).mean(), pd.Series(acc).sem()\n"
   ]
  },
  {
   "cell_type": "code",
   "execution_count": 12,
   "metadata": {},
   "outputs": [],
   "source": [
    "test_dirs = ['facegen_front','monkey_front']\n",
    "for test_cond in test_dirs:\n",
    "    \n",
    "    im_dir = f'{stim_dir}/{test_cond}'\n",
    "    im_files = load_files(im_dir)\n",
    "    im_count = len(im_files)\n",
    "\n",
    "    #set up data loader for full sample\n",
    "    dataset = LoadFrames.LoadFrames(im_dir,  transform=transform)\n",
    "    loader = torch.utils.data.DataLoader(dataset, batch_size=im_count, shuffle=False,num_workers = 4, pin_memory=True)\n",
    "\n",
    "    for tcn, tc  in enumerate(train_cond):\n",
    "        for ee in model_epochs:\n",
    "            base_model = model_funcs.load_model(model_type, tc, ee, weights_dir, n_classes[tcn])\n",
    "            \n",
    "            for ll in layer:\n",
    "            #load model \n",
    "                model = model_funcs.remove_layer(base_model, ll)\n",
    "\n",
    "                output, label = extract_acts(model)\n",
    "\n",
    "                df = pd.DataFrame(columns = ['model_type', 'train_type', 'epoch',\n",
    "                                                     'im1', 'im2', 'similarity']) \n",
    "                for ii in range(0,len(output)):\n",
    "\n",
    "                    for kk in range(ii+1,len(output)):\n",
    "\n",
    "                        sim = cos(output[ii], output[kk])\n",
    "                        sim =sim.cpu().numpy()\n",
    "\n",
    "                        trial_results = [model_type, tc, ee, label[ii], label[kk],sim]\n",
    "                        #print(trial_results)\n",
    "                        trial_results = pd.Series(trial_results, index = df.columns)\n",
    "                        df = df.append(trial_results, ignore_index=True)\n",
    "\n",
    "\n",
    "                df.to_csv(f'{curr_dir}/Results/other_species/{model_type}_{tc}_{ee}_{ll}_{test_cond}.csv', sep =\",\", index = False)"
   ]
  },
  {
   "cell_type": "code",
   "execution_count": null,
   "metadata": {},
   "outputs": [],
   "source": []
  }
 ],
 "metadata": {
  "kernelspec": {
   "display_name": "Python 3",
   "language": "python",
   "name": "python3"
  },
  "language_info": {
   "codemirror_mode": {
    "name": "ipython",
    "version": 3
   },
   "file_extension": ".py",
   "mimetype": "text/x-python",
   "name": "python",
   "nbconvert_exporter": "python",
   "pygments_lexer": "ipython3",
   "version": "3.7.10"
  }
 },
 "nbformat": 4,
 "nbformat_minor": 4
}
