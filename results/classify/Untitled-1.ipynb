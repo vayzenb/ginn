{
 "cells": [
  {
   "cell_type": "code",
   "execution_count": 2,
   "metadata": {},
   "outputs": [],
   "source": [
    "import matplotlib.pyplot as plt\n",
    "import seaborn as sns\n",
    "import numpy as np\n",
    "import pandas as pd\n",
    "from plotnine import *\n",
    "import itertools\n",
    "#from nilearn import image, plotting, datasets\n",
    "#import nibabel as nib\n",
    "import pdb\n",
    "import os"
   ]
  },
  {
   "cell_type": "code",
   "execution_count": 1,
   "metadata": {},
   "outputs": [],
   "source": [
    "model_type = ['random','imagenet_noface', 'imagenet_oneface',\n",
    "'imagenet_vggface', 'vggface_oneobject', 'vggface']\n",
    "\n",
    "\n",
    "seed = 1\n",
    "curr_dir = '/user_data/vayzenbe/GitHub_Repos/ginn'\n",
    "results_dir = f'{curr_dir}/results'\n",
    "suf = '_unsupervised'"
   ]
  },
  {
   "cell_type": "code",
   "execution_count": 3,
   "metadata": {},
   "outputs": [],
   "source": [
    "\"\"\"\n",
    "Plot classification data\n",
    "\"\"\"\n",
    "exp = 'classify'\n",
    "summary_df = pd.DataFrame(columns = ['model','image_type', 'condition'])\n",
    "\n",
    "cond = ['upright','inverted']\n",
    "test_type = ['objects', 'faces']\n",
    "\n",
    "for mm in model_type:\n",
    "    for cc in cond:\n",
    "        for tt in test_type:\n",
    "            curr_df = pd.read_csv(f'{results_dir}/{exp}/cornet_z_{mm}_{tt}_{cc}{suf}.csv')\n",
    "            break\n",
    "\n",
    "        break\n",
    "    break"
   ]
  },
  {
   "cell_type": "code",
   "execution_count": null,
   "metadata": {},
   "outputs": [],
   "source": []
  }
 ],
 "metadata": {
  "interpreter": {
   "hash": "5019f625d8cef7bf561ee867ce6ef83187ba244587e1135dd2819ee04470ac03"
  },
  "kernelspec": {
   "display_name": "Python 3.9.7 ('ml_new')",
   "language": "python",
   "name": "python3"
  },
  "language_info": {
   "codemirror_mode": {
    "name": "ipython",
    "version": 3
   },
   "file_extension": ".py",
   "mimetype": "text/x-python",
   "name": "python",
   "nbconvert_exporter": "python",
   "pygments_lexer": "ipython3",
   "version": "3.9.7"
  },
  "orig_nbformat": 4
 },
 "nbformat": 4,
 "nbformat_minor": 2
}
