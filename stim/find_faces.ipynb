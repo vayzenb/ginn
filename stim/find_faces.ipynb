{
 "cells": [
  {
   "cell_type": "code",
   "execution_count": 1,
   "metadata": {},
   "outputs": [],
   "source": [
    "curr_dir = '/user_data/vayzenbe/GitHub_Repos/ginn'\n",
    "\n",
    "import sys\n",
    "\n",
    "sys.path.insert(1, f'{curr_dir}')\n",
    "import os\n",
    "import numpy as np\n",
    "import pandas as pd\n",
    "import ginn_params as params\n",
    "import face_recognition\n",
    "from PIL import Image\n",
    "import matplotlib.pyplot as plt\n",
    "from glob import glob"
   ]
  },
  {
   "cell_type": "code",
   "execution_count": 2,
   "metadata": {},
   "outputs": [],
   "source": [
    "vid = params.vid\n",
    "\n",
    "frame_dir = f'{curr_dir}/stim/fmri_videos/frames/{vid}'\n",
    "\n",
    "frame_list = glob(f'{frame_dir}/*')\n",
    "#find frame index\n",
    "frame_list = [f\"{frame_dir}/{vid}_2543.jpg\"]"
   ]
  },
  {
   "cell_type": "code",
   "execution_count": 37,
   "metadata": {},
   "outputs": [],
   "source": [
    "frame_covs = pd.DataFrame(columns = ['frame', 'present', 'proportion'])\n",
    "fn = 1\n",
    "for frame in range(fn,len(frame_list)+1):\n",
    "    image = face_recognition.load_image_file(f'{frame_dir}/{vid}_{frame}.jpg')\n",
    "    face_locations = face_recognition.face_locations(image,model ='cnn')\n",
    "    if len(face_locations) == 0:\n",
    "        f_present = 0 #no faces\n",
    "        prop = 0\n",
    "    else:\n",
    "        f_present = 1\n",
    "        #calculate area of face locations\n",
    "        face_areas = []\n",
    "        for face in face_locations:\n",
    "            face_areas.append((face[2]-face[0])*(face[1]-face[3]))\n",
    "        \n",
    "        prop = np.sum(face_areas)/np.prod(image.shape[0:2])\n",
    "    frame_covs = frame_covs.append({'frame':frame, 'present':f_present, 'proportion':prop}, ignore_index=True)\n",
    "\n",
    "frame_covs.to_csv(f'{curr_dir}/stim/fmri_videos/{vid}_face_covs.csv', index=False)\n"
   ]
  }
 ],
 "metadata": {
  "kernelspec": {
   "display_name": "Python 3",
   "language": "python",
   "name": "python3"
  },
  "language_info": {
   "codemirror_mode": {
    "name": "ipython",
    "version": 3
   },
   "file_extension": ".py",
   "mimetype": "text/x-python",
   "name": "python",
   "nbconvert_exporter": "python",
   "pygments_lexer": "ipython3",
   "version": "3.8.16"
  },
  "orig_nbformat": 4,
  "vscode": {
   "interpreter": {
    "hash": "b177621ca50381e986783cf6c887fe5450060167065df45e571b8f3bb9698b8f"
   }
  }
 },
 "nbformat": 4,
 "nbformat_minor": 2
}
